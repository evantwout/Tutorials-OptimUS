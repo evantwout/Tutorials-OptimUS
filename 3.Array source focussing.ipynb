{
 "cells": [
  {
   "cell_type": "markdown",
   "metadata": {},
   "source": [
    "# Focusing ultrasound behind bone\n",
    "\n",
    " - The 3rd Chilean Symposium on Boundary Element Methods – A programming workshop on ultrasound simulations\n",
    " - Friday, November 8, 2024\n",
    " - Elwin van 't Wout\n",
    " - Pontificia Universidad Católica de Chile\n",
    "\n",
    "The OptimUS library provides functionality to simulate acoustic wave propagation in unbounded domains with homogeneous scatterers. One of the major challenges in focused ultrasound therapy is to target lesions located behind bone. To maximize the acoustic pressure near the focus but keep pressure levels elsewhere low, the transducer instruments need to be optimized accordingly. In the case of array transducers, each piston element can emit a pressure field with a different velocity and phase."
   ]
  },
  {
   "cell_type": "markdown",
   "metadata": {},
   "source": [
    "## Import the OptimUS library\n",
    "\n",
    "Load the OptimUS library."
   ]
  },
  {
   "cell_type": "code",
   "execution_count": null,
   "metadata": {},
   "outputs": [],
   "source": [
    "import optimus\n",
    "import numpy as np\n",
    "import matplotlib.pyplot as plt\n",
    "from mpl_toolkits.mplot3d import proj3d"
   ]
  },
  {
   "cell_type": "markdown",
   "metadata": {},
   "source": [
    "## Specify a spherical section array transducer as acoustic source\n",
    "\n",
    "The OptimUS library provides different predefined wave fields, among which is a spherical section array transducer. It has 256 elements in a semi-optimal configuration.\n",
    "\n",
    "The centroids of an example transducer array are stored in a file available in the data folder (https://github.com/optimuslib/optimus/blob/main/notebooks/Data/default_random_array_centroid_locations.dat).\n",
    "\n",
    "Let us use a frequency of 400 kHz, which is lower than typical operational frequencies but sufficiently high to analyze focussing capabilities with reasonable computational resources."
   ]
  },
  {
   "cell_type": "code",
   "execution_count": null,
   "metadata": {},
   "outputs": [],
   "source": [
    "frequency = 400e3\n",
    "a = 0.003\n",
    "D = 0.18\n",
    "centroid_file='Data/default_random_array_centroid_locations.dat'\n",
    "source = optimus.source.create_array(\n",
    "    frequency, centroid_locations_filename=centroid_file,\n",
    "    element_radius=a, location=[-D, 0, 0], number_of_point_sources_per_wavelength=2\n",
    ")"
   ]
  },
  {
   "cell_type": "markdown",
   "metadata": {},
   "source": [
    "The location of the centroids of the transducers in the array can be retrieved from the source object and plotted in Matplotlib. The focal point at the global origin is visualised by the red marker."
   ]
  },
  {
   "cell_type": "code",
   "execution_count": null,
   "metadata": {},
   "outputs": [],
   "source": [
    "x, y, z = source.centroid_locations"
   ]
  },
  {
   "cell_type": "code",
   "execution_count": null,
   "metadata": {},
   "outputs": [],
   "source": [
    "%matplotlib notebook\n",
    "fig = plt.figure(figsize=(8, 8))\n",
    "ax = fig.gca(projection='3d')\n",
    "ax.scatter(x, y, z)\n",
    "ax.scatter(0, 0, 0, 'r')\n",
    "ax.set_aspect('equal')\n",
    "ax.view_init(90, 0)\n",
    "ax.set_xlabel(\"x [m]\")\n",
    "ax.set_ylabel(\"y [m]\")\n",
    "plt.show()"
   ]
  },
  {
   "cell_type": "markdown",
   "metadata": {},
   "source": [
    "## Specify the velocities of the transducer elements\n",
    "\n",
    "Each of the 256 piston elements in the transducer has a complex-valued velocity. The absolute value refers to the speed of the element while the complex part provides its relative phase.\n",
    "\n",
    "By default, we can use a constant speed across all elements, but each value can be specified individually if needed."
   ]
  },
  {
   "cell_type": "code",
   "execution_count": null,
   "metadata": {},
   "outputs": [],
   "source": [
    "my_velocities = np.ones(256, dtype='complex')"
   ]
  },
  {
   "cell_type": "markdown",
   "metadata": {},
   "source": [
    "**TASK** Provide your own array of 256 complex values for the velocities of the transducer elements, such that the focussing capacity behind the rib of the transducer improves."
   ]
  },
  {
   "cell_type": "raw",
   "metadata": {},
   "source": [
    "# Example: excite only one element\n",
    "my_velocities = np.zeros(256, dtype='complex')\n",
    "my_velocities[0] = 1"
   ]
  },
  {
   "cell_type": "markdown",
   "metadata": {},
   "source": [
    "Let us normalise the velocities such that the sum of the magnitudes is always equal to one hundred."
   ]
  },
  {
   "cell_type": "code",
   "execution_count": null,
   "metadata": {},
   "outputs": [],
   "source": [
    "my_velocities = my_velocities / np.sum(np.abs(my_velocities))\n",
    "\n",
    "source.velocity = my_velocities * 100"
   ]
  },
  {
   "cell_type": "code",
   "execution_count": null,
   "metadata": {},
   "outputs": [],
   "source": [
    "print(source.velocity)"
   ]
  },
  {
   "cell_type": "markdown",
   "metadata": {},
   "source": [
    "## Specify the physical settings for the simulation\n",
    "\n",
    "In many ultrasound applications there is bone present in the beam path. For example, the liver is located behind the rib cage. Let us simulate this by placing a sphere with a diameter of 15 mm in front of the focus at the global origin. The element size of 1 mm is sufficiently fine to represent the wave phenomena."
   ]
  },
  {
   "cell_type": "code",
   "execution_count": null,
   "metadata": {},
   "outputs": [],
   "source": [
    "sphere_radius = 7.5e-3\n",
    "geometry = optimus.geometry.shapes.Sphere(origin=(-0.02,0.005,0), radius=7.5e-3, element_size=1e-3)\n",
    "material_ext = optimus.material.load_material('water')\n",
    "material_int = optimus.material.load_material('bone (cortical)')"
   ]
  },
  {
   "cell_type": "markdown",
   "metadata": {},
   "source": [
    "## Simulate the wave model\n",
    "\n",
    "The OptimUS library uses the Boundary Element Method to simulate acoustic wave propagation. Let us use a model with default settings."
   ]
  },
  {
   "cell_type": "code",
   "execution_count": null,
   "metadata": {},
   "outputs": [],
   "source": [
    "model = optimus.model.create_default_model(source, geometry, material_ext, material_int)"
   ]
  },
  {
   "cell_type": "markdown",
   "metadata": {},
   "source": [
    "After creating the model, it needs to be solved to obtain the surface potentials at the material interface. Depending on the size of the model, this can be computationally expensive. The solution will be stored inside the model object."
   ]
  },
  {
   "cell_type": "code",
   "execution_count": null,
   "metadata": {},
   "outputs": [],
   "source": [
    "%%time\n",
    "model.solve()"
   ]
  },
  {
   "cell_type": "markdown",
   "metadata": {},
   "source": [
    "## Visualisation of the acoustic field\n",
    "\n",
    "The acoustic field can be calculated in arbitrary points. Let us visualize the field on a grid in the plane $z=0$."
   ]
  },
  {
   "cell_type": "code",
   "execution_count": null,
   "metadata": {},
   "outputs": [],
   "source": [
    "%%time\n",
    "postprocess_plane = optimus.postprocess.VisualisePlane(model)\n",
    "postprocess_plane.create_computational_grid(resolution=(101, 61), bounding_box=(-0.07, 0.07, -0.04, 0.04))\n",
    "postprocess_plane.compute_fields()"
   ]
  },
  {
   "cell_type": "code",
   "execution_count": null,
   "metadata": {},
   "outputs": [],
   "source": [
    "%matplotlib inline\n",
    "print(\"Incident wavefield from transducer:\")\n",
    "figs = optimus.postprocess.plot_pressure_field(postprocess_plane, clim=(-8,8), field=\"incident\", unit=\"MPa\")\n",
    "print(\"Total pressure field with scattering at bone:\")\n",
    "figs = optimus.postprocess.plot_pressure_field(postprocess_plane, clim=(-8,8), field=\"total\", unit=\"MPa\")"
   ]
  },
  {
   "cell_type": "markdown",
   "metadata": {},
   "source": [
    "## Calculate the pressure field in the focus\n",
    "\n",
    "The geometric focus of the spherical section is at the global origin. Let us calculate the average pressure level in a box around the focus."
   ]
  },
  {
   "cell_type": "code",
   "execution_count": null,
   "metadata": {},
   "outputs": [],
   "source": [
    "plot_grid = np.mgrid[-0.01:0.01:20j, -0.005:0.005:10j, -0.005:0.005:10j]\n",
    "points_focus = np.vstack((plot_grid[0].ravel(), plot_grid[1].ravel(), np.zeros(plot_grid[0].size)))\n",
    "postprocess_focus = optimus.postprocess.VisualiseCloudPoints(model)\n",
    "postprocess_focus.create_computational_grid(points_focus)\n",
    "postprocess_focus.compute_fields()\n",
    "pressure_focus = np.mean(np.abs(postprocess_focus.field.total_field))"
   ]
  },
  {
   "cell_type": "markdown",
   "metadata": {},
   "source": [
    "**TASK** Maximize the mean pressure level at the focus."
   ]
  },
  {
   "cell_type": "code",
   "execution_count": null,
   "metadata": {},
   "outputs": [],
   "source": [
    "print(\"Mean pressure amplitude at focus:\", pressure_focus * 1e-6, \"MPa.\")"
   ]
  },
  {
   "cell_type": "markdown",
   "metadata": {},
   "source": [
    "Let us calculate the pressure level at the surface of the sphere. These values can be retrieved directly from the BEM solution, which has the Dirichlet and Neumann surface potentials. This pressure should be as small as possible to avoid skin burns."
   ]
  },
  {
   "cell_type": "markdown",
   "metadata": {},
   "source": [
    "**TASK** The mean pressure level at the surface has to be lower than 1.5 MPa."
   ]
  },
  {
   "cell_type": "code",
   "execution_count": null,
   "metadata": {},
   "outputs": [],
   "source": [
    "pressure_sphere = np.mean(np.abs(postprocess_focus.model.solution[0].coefficients))\n",
    "print(\"Mean pressure level at the surface of the sphere:\", pressure_sphere * 1e-6, \"MPa.\")"
   ]
  },
  {
   "cell_type": "markdown",
   "metadata": {},
   "source": [
    "Let us double-check if the sum of the velocities of the transducer array equals one hundred, as should be the case after normalisation."
   ]
  },
  {
   "cell_type": "markdown",
   "metadata": {},
   "source": [
    "**TASK** The sum of the velocities has to be equal to one hundred."
   ]
  },
  {
   "cell_type": "code",
   "execution_count": null,
   "metadata": {},
   "outputs": [],
   "source": [
    "print(\"Sum of velocities of the transducer array:\", np.sum(np.abs(postprocess_focus.model.source.velocity)))"
   ]
  },
  {
   "cell_type": "code",
   "execution_count": null,
   "metadata": {},
   "outputs": [],
   "source": []
  }
 ],
 "metadata": {
  "kernelspec": {
   "display_name": "Python 3",
   "language": "python",
   "name": "python3"
  },
  "language_info": {
   "codemirror_mode": {
    "name": "ipython",
    "version": 3
   },
   "file_extension": ".py",
   "mimetype": "text/x-python",
   "name": "python",
   "nbconvert_exporter": "python",
   "pygments_lexer": "ipython3",
   "version": "3.5.2"
  }
 },
 "nbformat": 4,
 "nbformat_minor": 4
}
