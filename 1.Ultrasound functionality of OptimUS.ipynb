{
 "cells": [
  {
   "cell_type": "markdown",
   "id": "50a6d4a2",
   "metadata": {},
   "source": [
    "# Modelling ultrasound propagation with OptimUS\n",
    "\n",
    " - The 3rd Chilean Symposium on Boundary Element Methods – A programming workshop on ultrasound simulations\n",
    " - Friday, November 8, 2024\n",
    " - Elwin van 't Wout\n",
    " - Pontificia Universidad Católica de Chile\n",
    "\n",
    "The OptimUS library provides functionality to simulate acoustic wave propagation in unbounded domains with homogeneous scatterers. The library has several tutorials to learn the functions to simulate focused ultrasound in a variety of settings. (See https://github.com/optimuslib/optimus/tree/main/notebooks.)"
   ]
  },
  {
   "cell_type": "markdown",
   "id": "16182d7b",
   "metadata": {},
   "source": [
    "## Basic functionality\n",
    "\n",
    "To start learning OptimUS, we recommend to run the notebook `Basic model.ipynb`, which explains the quickest way of running a simulation.\n",
    "\n",
    "**TASK** Play around with the notebook to learn about OptimUS' functionality.\n",
    " - Change the frequency and observe what happens with the field.\n",
    " - Change the material of the sphere and observe its impact on the field.\n",
    " - Change the size of the sphere or use another shape.\n",
    " - Change the number of elements per wavelength in the grid and check the accuracy of the solution."
   ]
  },
  {
   "cell_type": "markdown",
   "id": "f909897a",
   "metadata": {},
   "source": [
    "## Transducer instruments\n",
    "\n",
    "OptimUS calculates the pressure fields emitted from a variety of sources, including commonly used transducer elements in focused ultrasound therapy.\n",
    "\n",
    "**TASK** Run the following notebooks and play around with the settings and the frequency. What are the best instruments and optimal configurations to focus the beam?\n",
    " - `Array source configuration.ipynb`\n",
    " - `Array source simulation.ipynb`\n",
    " - `Bowl source.ipynb`\n",
    " - `Line array simulation.ipynb`\n",
    " - `Piston source.ipynb`"
   ]
  },
  {
   "cell_type": "markdown",
   "id": "284deed4",
   "metadata": {},
   "source": [
    "## Focused ultrasound\n",
    "\n",
    "One of the main objectives of OptimUS is to simulate focused ultrasound therapy. The notebooks `Bowl source aberrated by a skull slab.ipynb` shows a transcranial ultrasound scenario and `Visualisation in 3D.ipynb` a transcostal ultrasound scenario.\n",
    "\n",
    "**TASK** Run these notebooks to simulate focused ultrasound with bone in the beam path. Be aware that these notebooks may require high-performance computer facilities, especially at high frequencies."
   ]
  },
  {
   "cell_type": "markdown",
   "id": "1a915c0d",
   "metadata": {},
   "source": [
    "## Pulsed fields\n",
    "\n",
    "OptimUS solves the Helmholtz equation for harmonic acoustic wave propagation. Hence, a single frequency is used for each simulation. In other words, OptimUS models continuous waveforms. In practice, pulses and wavetrains are commonly used for focused ultrasound therapy.\n",
    "\n",
    "**TASK** Model a wavetrain with rectangular shape function. That is, the incident field has a single frequency that is switched on and off. Precisely, the wave field start with $n$ periods of a continuous wave of frequency $f$, and then is zero for the same time duration. These two steps are repeated.\n",
    "\n",
    "**HINT** Use Fourier analysis of the time signal.\n",
    "\n",
    "**TASK** Implement ramp functions that provide smooth transitions between the '*on*' phase of the harmonic field and the '*off*' stage with zero pressure."
   ]
  }
 ],
 "metadata": {
  "kernelspec": {
   "display_name": "Python 3",
   "language": "python",
   "name": "python3"
  },
  "language_info": {
   "codemirror_mode": {
    "name": "ipython",
    "version": 3
   },
   "file_extension": ".py",
   "mimetype": "text/x-python",
   "name": "python",
   "nbconvert_exporter": "python",
   "pygments_lexer": "ipython3",
   "version": "3.5.2"
  }
 },
 "nbformat": 4,
 "nbformat_minor": 5
}
